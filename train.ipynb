{
 "cells": [
  {
   "cell_type": "code",
   "execution_count": null,
   "metadata": {},
   "outputs": [],
   "source": [
    "!git clone https://github.com/kyegomez/Andromeda\n",
    "%cd Andromeda\n",
    "!pip3 install -r requirements.txt\n",
    "!python3 train.py\n",
    "\n",
    "# #    os.environ['MASTER_ADDR'] #'localhost'\n",
    "# os.environ['MASTER_PORT'] #= '9994'\n",
    "\n",
    "# # # [CRITICAL] Pay attention to this when scaling to multiple GPUs and clusters\n",
    "\n",
    "# # # Pay attention to this, use \"accelerate config\"\n",
    "\n",
    "# os.environ['RANK']       #= str(0) # Number of nodes (servers)\n",
    "# os.environ['WORLD_SIZE'] # = str(torch.cuda.device_count())"
   ]
  }
 ],
 "metadata": {
  "language_info": {
   "name": "python"
  },
  "orig_nbformat": 4
 },
 "nbformat": 4,
 "nbformat_minor": 2
}
